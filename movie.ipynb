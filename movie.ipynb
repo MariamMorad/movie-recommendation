{
 "cells": [
  {
   "cell_type": "code",
   "execution_count": null,
   "id": "e2992712",
   "metadata": {},
   "outputs": [],
   "source": [
    "import pandas as pd\n",
    "import pickle \n",
    "from sklearn.metrics.pairwise import cosine_similarity\n",
    "from sklearn.feature_extraction.text import TfidfVectorizer\n",
    "import nltk\n",
    "import re\n",
    "from nltk.corpus import stopwords\n",
    "from nltk.stem.porter import PorterStemmer\n"
   ]
  },
  {
   "cell_type": "code",
   "execution_count": 69,
   "id": "c434b68f",
   "metadata": {},
   "outputs": [
    {
     "data": {
      "text/html": [
       "<div>\n",
       "<style scoped>\n",
       "    .dataframe tbody tr th:only-of-type {\n",
       "        vertical-align: middle;\n",
       "    }\n",
       "\n",
       "    .dataframe tbody tr th {\n",
       "        vertical-align: top;\n",
       "    }\n",
       "\n",
       "    .dataframe thead th {\n",
       "        text-align: right;\n",
       "    }\n",
       "</style>\n",
       "<table border=\"1\" class=\"dataframe\">\n",
       "  <thead>\n",
       "    <tr style=\"text-align: right;\">\n",
       "      <th></th>\n",
       "      <th>id</th>\n",
       "      <th>title</th>\n",
       "      <th>genre</th>\n",
       "      <th>original_language</th>\n",
       "      <th>overview</th>\n",
       "      <th>popularity</th>\n",
       "      <th>release_date</th>\n",
       "      <th>vote_average</th>\n",
       "      <th>vote_count</th>\n",
       "    </tr>\n",
       "  </thead>\n",
       "  <tbody>\n",
       "    <tr>\n",
       "      <th>0</th>\n",
       "      <td>278</td>\n",
       "      <td>The Shawshank Redemption</td>\n",
       "      <td>Drama,Crime</td>\n",
       "      <td>en</td>\n",
       "      <td>Framed in the 1940s for the double murder of h...</td>\n",
       "      <td>94.075</td>\n",
       "      <td>1994-09-23</td>\n",
       "      <td>8.7</td>\n",
       "      <td>21862</td>\n",
       "    </tr>\n",
       "    <tr>\n",
       "      <th>1</th>\n",
       "      <td>19404</td>\n",
       "      <td>Dilwale Dulhania Le Jayenge</td>\n",
       "      <td>Comedy,Drama,Romance</td>\n",
       "      <td>hi</td>\n",
       "      <td>Raj is a rich, carefree, happy-go-lucky second...</td>\n",
       "      <td>25.408</td>\n",
       "      <td>1995-10-19</td>\n",
       "      <td>8.7</td>\n",
       "      <td>3731</td>\n",
       "    </tr>\n",
       "    <tr>\n",
       "      <th>2</th>\n",
       "      <td>238</td>\n",
       "      <td>The Godfather</td>\n",
       "      <td>Drama,Crime</td>\n",
       "      <td>en</td>\n",
       "      <td>Spanning the years 1945 to 1955, a chronicle o...</td>\n",
       "      <td>90.585</td>\n",
       "      <td>1972-03-14</td>\n",
       "      <td>8.7</td>\n",
       "      <td>16280</td>\n",
       "    </tr>\n",
       "    <tr>\n",
       "      <th>3</th>\n",
       "      <td>424</td>\n",
       "      <td>Schindler's List</td>\n",
       "      <td>Drama,History,War</td>\n",
       "      <td>en</td>\n",
       "      <td>The true story of how businessman Oskar Schind...</td>\n",
       "      <td>44.761</td>\n",
       "      <td>1993-12-15</td>\n",
       "      <td>8.6</td>\n",
       "      <td>12959</td>\n",
       "    </tr>\n",
       "    <tr>\n",
       "      <th>4</th>\n",
       "      <td>240</td>\n",
       "      <td>The Godfather: Part II</td>\n",
       "      <td>Drama,Crime</td>\n",
       "      <td>en</td>\n",
       "      <td>In the continuing saga of the Corleone crime f...</td>\n",
       "      <td>57.749</td>\n",
       "      <td>1974-12-20</td>\n",
       "      <td>8.6</td>\n",
       "      <td>9811</td>\n",
       "    </tr>\n",
       "    <tr>\n",
       "      <th>...</th>\n",
       "      <td>...</td>\n",
       "      <td>...</td>\n",
       "      <td>...</td>\n",
       "      <td>...</td>\n",
       "      <td>...</td>\n",
       "      <td>...</td>\n",
       "      <td>...</td>\n",
       "      <td>...</td>\n",
       "      <td>...</td>\n",
       "    </tr>\n",
       "    <tr>\n",
       "      <th>9995</th>\n",
       "      <td>10196</td>\n",
       "      <td>The Last Airbender</td>\n",
       "      <td>Action,Adventure,Fantasy</td>\n",
       "      <td>en</td>\n",
       "      <td>The story follows the adventures of Aang, a yo...</td>\n",
       "      <td>98.322</td>\n",
       "      <td>2010-06-30</td>\n",
       "      <td>4.7</td>\n",
       "      <td>3347</td>\n",
       "    </tr>\n",
       "    <tr>\n",
       "      <th>9996</th>\n",
       "      <td>331446</td>\n",
       "      <td>Sharknado 3: Oh Hell No!</td>\n",
       "      <td>Action,TV Movie,Science Fiction,Comedy,Adventure</td>\n",
       "      <td>en</td>\n",
       "      <td>The sharks take bite out of the East Coast whe...</td>\n",
       "      <td>12.490</td>\n",
       "      <td>2015-07-22</td>\n",
       "      <td>4.7</td>\n",
       "      <td>417</td>\n",
       "    </tr>\n",
       "    <tr>\n",
       "      <th>9997</th>\n",
       "      <td>13995</td>\n",
       "      <td>Captain America</td>\n",
       "      <td>Action,Science Fiction,War</td>\n",
       "      <td>en</td>\n",
       "      <td>During World War II, a brave, patriotic Americ...</td>\n",
       "      <td>18.333</td>\n",
       "      <td>1990-12-14</td>\n",
       "      <td>4.6</td>\n",
       "      <td>332</td>\n",
       "    </tr>\n",
       "    <tr>\n",
       "      <th>9998</th>\n",
       "      <td>2312</td>\n",
       "      <td>In the Name of the King: A Dungeon Siege Tale</td>\n",
       "      <td>Adventure,Fantasy,Action,Drama</td>\n",
       "      <td>en</td>\n",
       "      <td>A man named Farmer sets out to rescue his kidn...</td>\n",
       "      <td>15.159</td>\n",
       "      <td>2007-11-29</td>\n",
       "      <td>4.7</td>\n",
       "      <td>668</td>\n",
       "    </tr>\n",
       "    <tr>\n",
       "      <th>9999</th>\n",
       "      <td>455957</td>\n",
       "      <td>Domino</td>\n",
       "      <td>Thriller,Action,Crime</td>\n",
       "      <td>en</td>\n",
       "      <td>Seeking justice for his partner’s murder by an...</td>\n",
       "      <td>16.482</td>\n",
       "      <td>2019-05-31</td>\n",
       "      <td>4.6</td>\n",
       "      <td>221</td>\n",
       "    </tr>\n",
       "  </tbody>\n",
       "</table>\n",
       "<p>10000 rows × 9 columns</p>\n",
       "</div>"
      ],
      "text/plain": [
       "          id                                          title  \\\n",
       "0        278                       The Shawshank Redemption   \n",
       "1      19404                    Dilwale Dulhania Le Jayenge   \n",
       "2        238                                  The Godfather   \n",
       "3        424                               Schindler's List   \n",
       "4        240                         The Godfather: Part II   \n",
       "...      ...                                            ...   \n",
       "9995   10196                             The Last Airbender   \n",
       "9996  331446                       Sharknado 3: Oh Hell No!   \n",
       "9997   13995                                Captain America   \n",
       "9998    2312  In the Name of the King: A Dungeon Siege Tale   \n",
       "9999  455957                                         Domino   \n",
       "\n",
       "                                                 genre original_language  \\\n",
       "0                                          Drama,Crime                en   \n",
       "1                                 Comedy,Drama,Romance                hi   \n",
       "2                                          Drama,Crime                en   \n",
       "3                                    Drama,History,War                en   \n",
       "4                                          Drama,Crime                en   \n",
       "...                                                ...               ...   \n",
       "9995                          Action,Adventure,Fantasy                en   \n",
       "9996  Action,TV Movie,Science Fiction,Comedy,Adventure                en   \n",
       "9997                        Action,Science Fiction,War                en   \n",
       "9998                    Adventure,Fantasy,Action,Drama                en   \n",
       "9999                             Thriller,Action,Crime                en   \n",
       "\n",
       "                                               overview  popularity  \\\n",
       "0     Framed in the 1940s for the double murder of h...      94.075   \n",
       "1     Raj is a rich, carefree, happy-go-lucky second...      25.408   \n",
       "2     Spanning the years 1945 to 1955, a chronicle o...      90.585   \n",
       "3     The true story of how businessman Oskar Schind...      44.761   \n",
       "4     In the continuing saga of the Corleone crime f...      57.749   \n",
       "...                                                 ...         ...   \n",
       "9995  The story follows the adventures of Aang, a yo...      98.322   \n",
       "9996  The sharks take bite out of the East Coast whe...      12.490   \n",
       "9997  During World War II, a brave, patriotic Americ...      18.333   \n",
       "9998  A man named Farmer sets out to rescue his kidn...      15.159   \n",
       "9999  Seeking justice for his partner’s murder by an...      16.482   \n",
       "\n",
       "     release_date  vote_average  vote_count  \n",
       "0      1994-09-23           8.7       21862  \n",
       "1      1995-10-19           8.7        3731  \n",
       "2      1972-03-14           8.7       16280  \n",
       "3      1993-12-15           8.6       12959  \n",
       "4      1974-12-20           8.6        9811  \n",
       "...           ...           ...         ...  \n",
       "9995   2010-06-30           4.7        3347  \n",
       "9996   2015-07-22           4.7         417  \n",
       "9997   1990-12-14           4.6         332  \n",
       "9998   2007-11-29           4.7         668  \n",
       "9999   2019-05-31           4.6         221  \n",
       "\n",
       "[10000 rows x 9 columns]"
      ]
     },
     "metadata": {},
     "output_type": "display_data"
    }
   ],
   "source": [
    "df=pd.read_csv(r\"C:\\Users\\Dell\\Downloads\\archive (1).zip\")\n",
    "display(df)"
   ]
  },
  {
   "cell_type": "code",
   "execution_count": 70,
   "id": "4799de0d",
   "metadata": {},
   "outputs": [
    {
     "data": {
      "text/plain": [
       "id                    0\n",
       "title                 0\n",
       "genre                 3\n",
       "original_language     0\n",
       "overview             13\n",
       "popularity            0\n",
       "release_date          0\n",
       "vote_average          0\n",
       "vote_count            0\n",
       "dtype: int64"
      ]
     },
     "execution_count": 70,
     "metadata": {},
     "output_type": "execute_result"
    }
   ],
   "source": [
    "df.isnull().sum()"
   ]
  },
  {
   "cell_type": "code",
   "execution_count": 71,
   "id": "a0f0eead",
   "metadata": {},
   "outputs": [],
   "source": [
    "df['genre'] = df['genre'].fillna('')\n",
    "df['overview'] = df['overview'].fillna('')\n"
   ]
  },
  {
   "cell_type": "code",
   "execution_count": 72,
   "id": "761156e2",
   "metadata": {},
   "outputs": [
    {
     "data": {
      "text/plain": [
       "id                   0\n",
       "title                0\n",
       "genre                0\n",
       "original_language    0\n",
       "overview             0\n",
       "popularity           0\n",
       "release_date         0\n",
       "vote_average         0\n",
       "vote_count           0\n",
       "dtype: int64"
      ]
     },
     "execution_count": 72,
     "metadata": {},
     "output_type": "execute_result"
    }
   ],
   "source": [
    "df.isnull().sum()"
   ]
  },
  {
   "cell_type": "code",
   "execution_count": 73,
   "id": "6be7ab6c",
   "metadata": {},
   "outputs": [
    {
     "data": {
      "text/plain": [
       "np.int64(0)"
      ]
     },
     "execution_count": 73,
     "metadata": {},
     "output_type": "execute_result"
    }
   ],
   "source": [
    "df.duplicated().sum()"
   ]
  },
  {
   "cell_type": "code",
   "execution_count": 74,
   "id": "b346639c",
   "metadata": {},
   "outputs": [
    {
     "name": "stdout",
     "output_type": "stream",
     "text": [
      "<class 'pandas.core.frame.DataFrame'>\n",
      "RangeIndex: 10000 entries, 0 to 9999\n",
      "Data columns (total 9 columns):\n",
      " #   Column             Non-Null Count  Dtype  \n",
      "---  ------             --------------  -----  \n",
      " 0   id                 10000 non-null  int64  \n",
      " 1   title              10000 non-null  object \n",
      " 2   genre              10000 non-null  object \n",
      " 3   original_language  10000 non-null  object \n",
      " 4   overview           10000 non-null  object \n",
      " 5   popularity         10000 non-null  float64\n",
      " 6   release_date       10000 non-null  object \n",
      " 7   vote_average       10000 non-null  float64\n",
      " 8   vote_count         10000 non-null  int64  \n",
      "dtypes: float64(2), int64(2), object(5)\n",
      "memory usage: 703.2+ KB\n"
     ]
    }
   ],
   "source": [
    "df.info()"
   ]
  },
  {
   "cell_type": "code",
   "execution_count": 75,
   "id": "f0ceffaa",
   "metadata": {},
   "outputs": [],
   "source": [
    "movies=df[[\"id\",\"title\",\"genre\",\"overview\"]]"
   ]
  },
  {
   "cell_type": "code",
   "execution_count": 76,
   "id": "177a1767",
   "metadata": {},
   "outputs": [
    {
     "name": "stderr",
     "output_type": "stream",
     "text": [
      "C:\\Users\\Dell\\AppData\\Local\\Temp\\ipykernel_1628\\1299525583.py:1: SettingWithCopyWarning: \n",
      "A value is trying to be set on a copy of a slice from a DataFrame.\n",
      "Try using .loc[row_indexer,col_indexer] = value instead\n",
      "\n",
      "See the caveats in the documentation: https://pandas.pydata.org/pandas-docs/stable/user_guide/indexing.html#returning-a-view-versus-a-copy\n",
      "  movies[\"content\"]=movies[\"genre\"]+\" \"+movies[\"overview\"]\n"
     ]
    }
   ],
   "source": [
    "movies[\"content\"]=movies[\"genre\"]+\" \"+movies[\"overview\"]"
   ]
  },
  {
   "cell_type": "code",
   "execution_count": 77,
   "id": "8fae2187",
   "metadata": {},
   "outputs": [
    {
     "name": "stdout",
     "output_type": "stream",
     "text": [
      "c:\\Users\\Dell\\AppData\\Local\\Programs\\Python\\Python310\\python.exe\n"
     ]
    }
   ],
   "source": [
    "import sys\n",
    "print(sys.executable)\n",
    "\n"
   ]
  },
  {
   "cell_type": "code",
   "execution_count": null,
   "id": "e33f8de6",
   "metadata": {},
   "outputs": [
    {
     "name": "stderr",
     "output_type": "stream",
     "text": [
      "[nltk_data] Downloading package stopwords to\n",
      "[nltk_data]     C:\\Users\\Dell\\AppData\\Roaming\\nltk_data...\n",
      "[nltk_data]   Package stopwords is already up-to-date!\n"
     ]
    }
   ],
   "source": [
    "nltk.download('stopwords')\n",
    "ps = PorterStemmer()\n",
    "stop_words = set(stopwords.words('english'))\n",
    "\n",
    "def clean_text(text):\n",
    "    text = text.lower()  \n",
    "    text = re.sub(r'[^a-zA-Z]', ' ', text)   \n",
    "    words = text.split() \n",
    "    words = [ps.stem(word) for word in words if word not in stop_words]     \n",
    "    return \" \".join(words)\n"
   ]
  },
  {
   "cell_type": "code",
   "execution_count": 79,
   "id": "a3a0efb6",
   "metadata": {},
   "outputs": [
    {
     "name": "stderr",
     "output_type": "stream",
     "text": [
      "C:\\Users\\Dell\\AppData\\Local\\Temp\\ipykernel_1628\\44463265.py:1: SettingWithCopyWarning: \n",
      "A value is trying to be set on a copy of a slice from a DataFrame.\n",
      "Try using .loc[row_indexer,col_indexer] = value instead\n",
      "\n",
      "See the caveats in the documentation: https://pandas.pydata.org/pandas-docs/stable/user_guide/indexing.html#returning-a-view-versus-a-copy\n",
      "  movies[\"content\"] = movies[\"content\"].apply(clean_text)\n"
     ]
    }
   ],
   "source": [
    "movies[\"content\"] = movies[\"content\"].apply(clean_text)\n"
   ]
  },
  {
   "cell_type": "code",
   "execution_count": 80,
   "id": "6fbfa24f",
   "metadata": {},
   "outputs": [],
   "source": [
    "movies=movies.drop(columns=[\"overview\",\"genre\"])"
   ]
  },
  {
   "cell_type": "code",
   "execution_count": 81,
   "id": "3ca025d9",
   "metadata": {},
   "outputs": [
    {
     "data": {
      "text/html": [
       "<div>\n",
       "<style scoped>\n",
       "    .dataframe tbody tr th:only-of-type {\n",
       "        vertical-align: middle;\n",
       "    }\n",
       "\n",
       "    .dataframe tbody tr th {\n",
       "        vertical-align: top;\n",
       "    }\n",
       "\n",
       "    .dataframe thead th {\n",
       "        text-align: right;\n",
       "    }\n",
       "</style>\n",
       "<table border=\"1\" class=\"dataframe\">\n",
       "  <thead>\n",
       "    <tr style=\"text-align: right;\">\n",
       "      <th></th>\n",
       "      <th>id</th>\n",
       "      <th>title</th>\n",
       "      <th>content</th>\n",
       "    </tr>\n",
       "  </thead>\n",
       "  <tbody>\n",
       "    <tr>\n",
       "      <th>0</th>\n",
       "      <td>278</td>\n",
       "      <td>The Shawshank Redemption</td>\n",
       "      <td>drama crime frame doubl murder wife lover upst...</td>\n",
       "    </tr>\n",
       "    <tr>\n",
       "      <th>1</th>\n",
       "      <td>19404</td>\n",
       "      <td>Dilwale Dulhania Le Jayenge</td>\n",
       "      <td>comedi drama romanc raj rich carefre happi go ...</td>\n",
       "    </tr>\n",
       "    <tr>\n",
       "      <th>2</th>\n",
       "      <td>238</td>\n",
       "      <td>The Godfather</td>\n",
       "      <td>drama crime span year chronicl fiction italian...</td>\n",
       "    </tr>\n",
       "    <tr>\n",
       "      <th>3</th>\n",
       "      <td>424</td>\n",
       "      <td>Schindler's List</td>\n",
       "      <td>drama histori war true stori businessman oskar...</td>\n",
       "    </tr>\n",
       "    <tr>\n",
       "      <th>4</th>\n",
       "      <td>240</td>\n",
       "      <td>The Godfather: Part II</td>\n",
       "      <td>drama crime continu saga corleon crime famili ...</td>\n",
       "    </tr>\n",
       "    <tr>\n",
       "      <th>...</th>\n",
       "      <td>...</td>\n",
       "      <td>...</td>\n",
       "      <td>...</td>\n",
       "    </tr>\n",
       "    <tr>\n",
       "      <th>9995</th>\n",
       "      <td>10196</td>\n",
       "      <td>The Last Airbender</td>\n",
       "      <td>action adventur fantasi stori follow adventur ...</td>\n",
       "    </tr>\n",
       "    <tr>\n",
       "      <th>9996</th>\n",
       "      <td>331446</td>\n",
       "      <td>Sharknado 3: Oh Hell No!</td>\n",
       "      <td>action tv movi scienc fiction comedi adventur ...</td>\n",
       "    </tr>\n",
       "    <tr>\n",
       "      <th>9997</th>\n",
       "      <td>13995</td>\n",
       "      <td>Captain America</td>\n",
       "      <td>action scienc fiction war world war ii brave p...</td>\n",
       "    </tr>\n",
       "    <tr>\n",
       "      <th>9998</th>\n",
       "      <td>2312</td>\n",
       "      <td>In the Name of the King: A Dungeon Siege Tale</td>\n",
       "      <td>adventur fantasi action drama man name farmer ...</td>\n",
       "    </tr>\n",
       "    <tr>\n",
       "      <th>9999</th>\n",
       "      <td>455957</td>\n",
       "      <td>Domino</td>\n",
       "      <td>thriller action crime seek justic partner murd...</td>\n",
       "    </tr>\n",
       "  </tbody>\n",
       "</table>\n",
       "<p>10000 rows × 3 columns</p>\n",
       "</div>"
      ],
      "text/plain": [
       "          id                                          title  \\\n",
       "0        278                       The Shawshank Redemption   \n",
       "1      19404                    Dilwale Dulhania Le Jayenge   \n",
       "2        238                                  The Godfather   \n",
       "3        424                               Schindler's List   \n",
       "4        240                         The Godfather: Part II   \n",
       "...      ...                                            ...   \n",
       "9995   10196                             The Last Airbender   \n",
       "9996  331446                       Sharknado 3: Oh Hell No!   \n",
       "9997   13995                                Captain America   \n",
       "9998    2312  In the Name of the King: A Dungeon Siege Tale   \n",
       "9999  455957                                         Domino   \n",
       "\n",
       "                                                content  \n",
       "0     drama crime frame doubl murder wife lover upst...  \n",
       "1     comedi drama romanc raj rich carefre happi go ...  \n",
       "2     drama crime span year chronicl fiction italian...  \n",
       "3     drama histori war true stori businessman oskar...  \n",
       "4     drama crime continu saga corleon crime famili ...  \n",
       "...                                                 ...  \n",
       "9995  action adventur fantasi stori follow adventur ...  \n",
       "9996  action tv movi scienc fiction comedi adventur ...  \n",
       "9997  action scienc fiction war world war ii brave p...  \n",
       "9998  adventur fantasi action drama man name farmer ...  \n",
       "9999  thriller action crime seek justic partner murd...  \n",
       "\n",
       "[10000 rows x 3 columns]"
      ]
     },
     "metadata": {},
     "output_type": "display_data"
    }
   ],
   "source": [
    "display(movies)"
   ]
  },
  {
   "cell_type": "code",
   "execution_count": 82,
   "id": "37f86301",
   "metadata": {},
   "outputs": [],
   "source": [
    "Tf= TfidfVectorizer(max_features=10000, stop_words='english')\n"
   ]
  },
  {
   "cell_type": "code",
   "execution_count": 83,
   "id": "46a5144b",
   "metadata": {},
   "outputs": [],
   "source": [
    "m=Tf.fit_transform(movies[\"content\"]).toarray()"
   ]
  },
  {
   "cell_type": "code",
   "execution_count": 84,
   "id": "fa7c6e9a",
   "metadata": {},
   "outputs": [
    {
     "data": {
      "text/plain": [
       "(10000, 10000)"
      ]
     },
     "execution_count": 84,
     "metadata": {},
     "output_type": "execute_result"
    }
   ],
   "source": [
    "m.shape"
   ]
  },
  {
   "cell_type": "code",
   "execution_count": 85,
   "id": "e25e08a3",
   "metadata": {},
   "outputs": [
    {
     "data": {
      "text/plain": [
       "array([[1.        , 0.01320091, 0.02922896, ..., 0.0571214 , 0.02624745,\n",
       "        0.02043844],\n",
       "       [0.01320091, 1.        , 0.0128458 , ..., 0.        , 0.00414008,\n",
       "        0.        ],\n",
       "       [0.02922896, 0.0128458 , 1.        , ..., 0.02004058, 0.02851312,\n",
       "        0.04068189],\n",
       "       ...,\n",
       "       [0.0571214 , 0.        , 0.02004058, ..., 1.        , 0.06486652,\n",
       "        0.00458889],\n",
       "       [0.02624745, 0.00414008, 0.02851312, ..., 0.06486652, 1.        ,\n",
       "        0.00944691],\n",
       "       [0.02043844, 0.        , 0.04068189, ..., 0.00458889, 0.00944691,\n",
       "        1.        ]])"
      ]
     },
     "execution_count": 85,
     "metadata": {},
     "output_type": "execute_result"
    }
   ],
   "source": [
    "similarity=cosine_similarity(m)\n",
    "similarity"
   ]
  },
  {
   "cell_type": "code",
   "execution_count": 86,
   "id": "08df13df",
   "metadata": {},
   "outputs": [],
   "source": [
    "def recommand(movie):\n",
    "     index=movies[movies[\"title\"]==movie].index[0]\n",
    "     listed=sorted(list(enumerate(similarity[index])),reverse=True,key=lambda i:i[1])\n",
    "     for i in listed[1:6]:\n",
    "          print(movies.iloc[i[0]].title)\n",
    "\n"
   ]
  },
  {
   "cell_type": "code",
   "execution_count": 87,
   "id": "ca0443cb",
   "metadata": {},
   "outputs": [
    {
     "name": "stdout",
     "output_type": "stream",
     "text": [
      "The Godfather: Part II\n",
      "The Godfather: Part III\n",
      "Xtreme\n",
      "Blood Ties\n",
      "Extremely Wicked, Shockingly Evil and Vile\n"
     ]
    }
   ],
   "source": [
    "recommand(\"The Godfather\")"
   ]
  },
  {
   "cell_type": "code",
   "execution_count": 88,
   "id": "455eb317",
   "metadata": {},
   "outputs": [],
   "source": [
    "\n",
    "pickle.dump(movies, open(r'C:\\Users\\Dell\\Desktop\\movies_list.pkl', 'wb'))\n"
   ]
  },
  {
   "cell_type": "code",
   "execution_count": 89,
   "id": "fcfd0bfd",
   "metadata": {},
   "outputs": [],
   "source": [
    "pickle.dump(similarity, open(r'C:\\Users\\Dell\\Desktop\\similarity.pkl', 'wb'))\n"
   ]
  },
  {
   "cell_type": "code",
   "execution_count": 90,
   "id": "0ad84cd2",
   "metadata": {},
   "outputs": [
    {
     "data": {
      "text/html": [
       "<div>\n",
       "<style scoped>\n",
       "    .dataframe tbody tr th:only-of-type {\n",
       "        vertical-align: middle;\n",
       "    }\n",
       "\n",
       "    .dataframe tbody tr th {\n",
       "        vertical-align: top;\n",
       "    }\n",
       "\n",
       "    .dataframe thead th {\n",
       "        text-align: right;\n",
       "    }\n",
       "</style>\n",
       "<table border=\"1\" class=\"dataframe\">\n",
       "  <thead>\n",
       "    <tr style=\"text-align: right;\">\n",
       "      <th></th>\n",
       "      <th>id</th>\n",
       "      <th>title</th>\n",
       "      <th>content</th>\n",
       "    </tr>\n",
       "  </thead>\n",
       "  <tbody>\n",
       "    <tr>\n",
       "      <th>0</th>\n",
       "      <td>278</td>\n",
       "      <td>The Shawshank Redemption</td>\n",
       "      <td>Drama,CrimeFramed in the 1940s for the double ...</td>\n",
       "    </tr>\n",
       "    <tr>\n",
       "      <th>1</th>\n",
       "      <td>19404</td>\n",
       "      <td>Dilwale Dulhania Le Jayenge</td>\n",
       "      <td>Comedy,Drama,RomanceRaj is a rich, carefree, h...</td>\n",
       "    </tr>\n",
       "    <tr>\n",
       "      <th>2</th>\n",
       "      <td>238</td>\n",
       "      <td>The Godfather</td>\n",
       "      <td>Drama,CrimeSpanning the years 1945 to 1955, a ...</td>\n",
       "    </tr>\n",
       "    <tr>\n",
       "      <th>3</th>\n",
       "      <td>424</td>\n",
       "      <td>Schindler's List</td>\n",
       "      <td>Drama,History,WarThe true story of how busines...</td>\n",
       "    </tr>\n",
       "    <tr>\n",
       "      <th>4</th>\n",
       "      <td>240</td>\n",
       "      <td>The Godfather: Part II</td>\n",
       "      <td>Drama,CrimeIn the continuing saga of the Corle...</td>\n",
       "    </tr>\n",
       "    <tr>\n",
       "      <th>...</th>\n",
       "      <td>...</td>\n",
       "      <td>...</td>\n",
       "      <td>...</td>\n",
       "    </tr>\n",
       "    <tr>\n",
       "      <th>9995</th>\n",
       "      <td>10196</td>\n",
       "      <td>The Last Airbender</td>\n",
       "      <td>Action,Adventure,FantasyThe story follows the ...</td>\n",
       "    </tr>\n",
       "    <tr>\n",
       "      <th>9996</th>\n",
       "      <td>331446</td>\n",
       "      <td>Sharknado 3: Oh Hell No!</td>\n",
       "      <td>Action,TV Movie,Science Fiction,Comedy,Adventu...</td>\n",
       "    </tr>\n",
       "    <tr>\n",
       "      <th>9997</th>\n",
       "      <td>13995</td>\n",
       "      <td>Captain America</td>\n",
       "      <td>Action,Science Fiction,WarDuring World War II,...</td>\n",
       "    </tr>\n",
       "    <tr>\n",
       "      <th>9998</th>\n",
       "      <td>2312</td>\n",
       "      <td>In the Name of the King: A Dungeon Siege Tale</td>\n",
       "      <td>Adventure,Fantasy,Action,DramaA man named Farm...</td>\n",
       "    </tr>\n",
       "    <tr>\n",
       "      <th>9999</th>\n",
       "      <td>455957</td>\n",
       "      <td>Domino</td>\n",
       "      <td>Thriller,Action,CrimeSeeking justice for his p...</td>\n",
       "    </tr>\n",
       "  </tbody>\n",
       "</table>\n",
       "<p>10000 rows × 3 columns</p>\n",
       "</div>"
      ],
      "text/plain": [
       "          id                                          title  \\\n",
       "0        278                       The Shawshank Redemption   \n",
       "1      19404                    Dilwale Dulhania Le Jayenge   \n",
       "2        238                                  The Godfather   \n",
       "3        424                               Schindler's List   \n",
       "4        240                         The Godfather: Part II   \n",
       "...      ...                                            ...   \n",
       "9995   10196                             The Last Airbender   \n",
       "9996  331446                       Sharknado 3: Oh Hell No!   \n",
       "9997   13995                                Captain America   \n",
       "9998    2312  In the Name of the King: A Dungeon Siege Tale   \n",
       "9999  455957                                         Domino   \n",
       "\n",
       "                                                content  \n",
       "0     Drama,CrimeFramed in the 1940s for the double ...  \n",
       "1     Comedy,Drama,RomanceRaj is a rich, carefree, h...  \n",
       "2     Drama,CrimeSpanning the years 1945 to 1955, a ...  \n",
       "3     Drama,History,WarThe true story of how busines...  \n",
       "4     Drama,CrimeIn the continuing saga of the Corle...  \n",
       "...                                                 ...  \n",
       "9995  Action,Adventure,FantasyThe story follows the ...  \n",
       "9996  Action,TV Movie,Science Fiction,Comedy,Adventu...  \n",
       "9997  Action,Science Fiction,WarDuring World War II,...  \n",
       "9998  Adventure,Fantasy,Action,DramaA man named Farm...  \n",
       "9999  Thriller,Action,CrimeSeeking justice for his p...  \n",
       "\n",
       "[10000 rows x 3 columns]"
      ]
     },
     "execution_count": 90,
     "metadata": {},
     "output_type": "execute_result"
    }
   ],
   "source": [
    "pickle.load(open('movies_list.pkl', 'rb'))\n"
   ]
  }
 ],
 "metadata": {
  "kernelspec": {
   "display_name": "Python 3",
   "language": "python",
   "name": "python3"
  },
  "language_info": {
   "codemirror_mode": {
    "name": "ipython",
    "version": 3
   },
   "file_extension": ".py",
   "mimetype": "text/x-python",
   "name": "python",
   "nbconvert_exporter": "python",
   "pygments_lexer": "ipython3",
   "version": "3.10.10"
  }
 },
 "nbformat": 4,
 "nbformat_minor": 5
}
